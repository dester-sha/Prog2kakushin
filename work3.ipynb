{
  "nbformat": 4,
  "nbformat_minor": 0,
  "metadata": {
    "colab": {
      "provenance": [],
      "toc_visible": true,
      "authorship_tag": "ABX9TyMbCp87jg8SSLmUMPRTmYVc",
      "include_colab_link": true
    },
    "kernelspec": {
      "name": "python3",
      "display_name": "Python 3"
    },
    "language_info": {
      "name": "python"
    }
  },
  "cells": [
    {
      "cell_type": "markdown",
      "metadata": {
        "id": "view-in-github",
        "colab_type": "text"
      },
      "source": [
        "<a href=\"https://colab.research.google.com/github/dester-sha/Prog2kakushin/blob/main/work3.ipynb\" target=\"_parent\"><img src=\"https://colab.research.google.com/assets/colab-badge.svg\" alt=\"Open In Colab\"/></a>"
      ]
    },
    {
      "cell_type": "code",
      "execution_count": 131,
      "metadata": {
        "id": "07SUHBJ8EfOK",
        "colab": {
          "base_uri": "https://localhost:8080/",
          "height": 1000
        },
        "outputId": "cfbab2a1-3bb2-43d1-b425-4eb5391e569e"
      },
      "outputs": [
        {
          "name": "stdout",
          "output_type": "stream",
          "text": [
            "何色にしますか\n",
            "１：レッド　２：グレー　３：グリーン　４：パープル\n",
            "５：ピンク　６：シアン　７：オリーブ　８：ブラック\n",
            "９：ブルー １０：マロン　１１：オレンジ\n",
            "1\n",
            "何色にしますか\n",
            "１：レッド　２：グレー　３：グリーン　４：パープル\n",
            "５：ピンク　６：シアン　７：オリーブ　８：ブラック\n",
            "９：ブルー １０：マロン　１１：オレンジ\n",
            "11\n",
            "何色にしますか\n",
            "１：レッド　２：グレー　３：グリーン　４：パープル\n",
            "５：ピンク　６：シアン　７：オリーブ　８：ブラック\n",
            "９：ブルー １０：マロン　１１：オレンジ\n",
            "7\n",
            "何色にしますか\n",
            "１：レッド　２：グレー　３：グリーン　４：パープル\n",
            "５：ピンク　６：シアン　７：オリーブ　８：ブラック\n",
            "９：ブルー １０：マロン　１１：オレンジ\n",
            "4\n",
            "何色にしますか\n",
            "１：レッド　２：グレー　３：グリーン　４：パープル\n",
            "５：ピンク　６：シアン　７：オリーブ　８：ブラック\n",
            "９：ブルー １０：マロン　１１：オレンジ\n",
            "8\n",
            "何色にしますか\n",
            "１：レッド　２：グレー　３：グリーン　４：パープル\n",
            "５：ピンク　６：シアン　７：オリーブ　８：ブラック\n",
            "９：ブルー １０：マロン　１１：オレンジ\n",
            "6\n",
            "何色にしますか\n",
            "１：レッド　２：グレー　３：グリーン　４：パープル\n",
            "５：ピンク　６：シアン　７：オリーブ　８：ブラック\n",
            "９：ブルー １０：マロン　１１：オレンジ\n",
            "10\n",
            "何色にしますか\n",
            "１：レッド　２：グレー　３：グリーン　４：パープル\n",
            "５：ピンク　６：シアン　７：オリーブ　８：ブラック\n",
            "９：ブルー １０：マロン　１１：オレンジ\n",
            "2\n"
          ]
        },
        {
          "output_type": "display_data",
          "data": {
            "text/plain": [
              "<PIL.Image.Image image mode=RGB size=700x700>"
            ],
            "image/png": "[encoded data removed]"
          },
          "metadata": {}
        }
      ],
      "source": [
        "#花を作る\n",
        "import numpy as np\n",
        "import cv2, sys\n",
        "from google.colab.patches import cv2_imshow\n",
        "\n",
        "\n",
        "def cl(a):\n",
        "  if a==1:\n",
        "    return (0, 0, 255)\n",
        "  elif a==2:\n",
        "    return (190, 190, 190)\n",
        "  elif a==3:\n",
        "    return (0, 255, 0)\n",
        "  elif a==4:\n",
        "    return (128, 0, 128)\n",
        "  elif a==5:\n",
        "    return (255, 0, 255)\n",
        "  elif a==6:\n",
        "    return (255, 255, 0)\n",
        "  elif a==7:\n",
        "    return (0, 128, 128)\n",
        "  elif a==8:\n",
        "    return ( 0, 0, 0)\n",
        "  elif a==9:\n",
        "    return (255, 0, 0)\n",
        "  elif a==10:\n",
        "    return (0, 0, 120)\n",
        "  elif a==11:\n",
        "    return (0, 165, 255)\n",
        "\n",
        "\n",
        "def q():\n",
        "   a=int(input('何色にしますか\\n１：レッド　２：グレー　３：グリーン　４：パープル'\n",
        "               '\\n５：ピンク　６：シアン　７：オリーブ　８：ブラック\\n'\n",
        "               '９：ブルー １０：マロン　１１：オレンジ\\n'))\n",
        "   return  cl(a)\n",
        "\n",
        "img = np.zeros( (700, 700, 3), np.uint8 )\n",
        "img.fill(255)\n",
        "cv2.line(img, (350, 510), (350, 650), (34,139,34), thickness=30)\n",
        "cv2.ellipse(img, ((270, 620), (100, 160),120),color=(34,139,34), thickness=-1)\n",
        "cv2.ellipse(img, ((430, 620), (100, 160),60),color=(34,139,34), thickness=-1)\n",
        "\n",
        "cv2.ellipse(img, ((350, 170), (100, 160), 0),color=q(), thickness=-1)\n",
        "cv2.ellipse(img, ((350, 430), (100, 160), 0), color=q(), thickness=-1)\n",
        "cv2.ellipse(img, ((220, 300), (160, 100), 0), color=q(), thickness=-1)\n",
        "cv2.ellipse(img, ((480, 300), (160, 100), 0), color=q(), thickness=-1)\n",
        "cv2.ellipse(img, ((250, 200), (180, 100), 45),color=q(), thickness=-1)\n",
        "cv2.ellipse(img, ((450, 400), (180, 100), 45),color=q(), thickness=-1)\n",
        "cv2.ellipse(img, ((450, 200), (180, 100), 135),color=q(), thickness=-1)\n",
        "cv2.ellipse(img, ((250, 400), (180, 100), 135),color=q(), thickness=-1)\n",
        "\n",
        "cv2.ellipse(img, ((350, 170), (100, 160), 0), color=(0, 0, 0))\n",
        "cv2.ellipse(img, ((350, 430), (100, 160), 0), color=(0,0,0))\n",
        "cv2.ellipse(img, ((220, 300), (160, 100), 0), color=(0, 0, 0))\n",
        "cv2.ellipse(img, ((480, 300), (160, 100), 0), color=(0, 0, 0))\n",
        "cv2.ellipse(img, ((250, 200), (180, 100), 45), color=(0, 0, 0))\n",
        "cv2.ellipse(img, ((450, 400), (180, 100), 45), color=(0, 0, 0))\n",
        "cv2.ellipse(img, ((450, 200), (180, 100), 135), color=(0, 0, 0))\n",
        "cv2.ellipse(img, ((250, 400), (180, 100), 135), color=(0, 0, 0))\n",
        "\n",
        "cv2.circle(img, (350, 300), radius=80, color=(0, 255, 255), thickness=-1)\n",
        "cv2.circle(img, (350, 300), radius=80, color=(255, 255, 255))\n",
        "cv2.ellipse(img, (350, 330), (30, 25), 180, 180, 360, (0, 0, 255), thickness=-1)\n",
        "cv2.ellipse(img, ((320, 280), (25, 40), 0),color=(0,0,0), thickness=-1)\n",
        "cv2.ellipse(img, ((380, 280), (25, 40), 0),color=(0,0,0), thickness=-1)\n",
        "cv2_imshow(img)"
      ]
    }
  ]
}